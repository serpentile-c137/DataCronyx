{
 "cells": [
  {
   "cell_type": "code",
   "execution_count": 2,
   "id": "32e0b9c0",
   "metadata": {},
   "outputs": [
    {
     "name": "stderr",
     "output_type": "stream",
     "text": [
      "c:\\Project\\DataCronyx\\.venv\\Lib\\site-packages\\tqdm\\auto.py:21: TqdmWarning: IProgress not found. Please update jupyter and ipywidgets. See https://ipywidgets.readthedocs.io/en/stable/user_install.html\n",
      "  from .autonotebook import tqdm as notebook_tqdm\n"
     ]
    }
   ],
   "source": [
    "import os\n",
    "from dotenv import load_dotenv\n",
    "import google.generativeai as genai"
   ]
  },
  {
   "cell_type": "code",
   "execution_count": 3,
   "id": "6501110a",
   "metadata": {},
   "outputs": [],
   "source": [
    "load_dotenv()  # Loads variables from .env into environment\n",
    "\n",
    "# Set your Google API key here or via environment variable\n",
    "GOOGLE_API_KEY = os.getenv(\"GOOGLE_API_KEY\")\n",
    "\n",
    "genai.configure(api_key=GOOGLE_API_KEY)"
   ]
  },
  {
   "cell_type": "code",
   "execution_count": 5,
   "id": "e79c065a",
   "metadata": {},
   "outputs": [
    {
     "name": "stdout",
     "output_type": "stream",
     "text": [
      "The capital of France is **Paris**.\n"
     ]
    }
   ],
   "source": [
    "model = genai.GenerativeModel(\"gemini-2.5-flash\")\n",
    "response = model.generate_content(\"What is the capital of France?\")\n",
    "print(response.text)"
   ]
  },
  {
   "cell_type": "code",
   "execution_count": 6,
   "id": "eb82f4ff",
   "metadata": {},
   "outputs": [
    {
     "name": "stdout",
     "output_type": "stream",
     "text": [
      "In the sun-drenched kingdom of Eldoria, nestled between whispering forests and rolling hills, peace had reigned for generations. But as is often the way, shadows eventually fall even on the brightest lands. A creature of dread, a colossal Griffin with feathers like tarnished silver and talons sharp as obsidian, had made its nest high in the treacherous peaks of the Dragon's Tooth mountains. It descended upon villages, snatching livestock, terrorizing travelers, and casting a pall of fear over the entire kingdom.\n",
      "\n",
      "Many knights had tried to challenge the beast, brave men whose armor shone bright, but none had returned. Hope dwindled, leaving only whispers of despair in the taverns and marketplaces.\n",
      "\n",
      "Then there was Sir Kael. He was not the largest knight, nor the most boastful. His armor, though polished, bore the honorable dents of many smaller skirmishes, and his shield, emblazoned with a simple lion rampant, had seen its share of use. Kael possessed a quiet strength, a steadfast gaze that held both kindness and an unyielding resolve. When the King, his face etched with worry, called for a final champion, it was Sir Kael who stepped forward.\n",
      "\n",
      "\"Your Majesty,\" he said, his voice clear and calm, \"I will face this Griffin. For Eldoria, and for the people.\"\n",
      "\n",
      "The King, though grateful, looked at Kael with a sadness that spoke volumes. \"May the heavens guide your sword, Sir Kael. Many valiant men have fallen.\"\n",
      "\n",
      "Sir Kael spent a week in preparation. He sharpened his blade, prayed in the chapel, and spoke with the families of those lost, taking their stories of fear and their desperate hopes into his heart. He knew strength alone wouldn't defeat the Griffin; he needed courage, cunning, and an unwavering spirit.\n",
      "\n",
      "His journey began at dawn, his loyal steed, a sturdy grey mare named Whisper, carrying him towards the looming mountains. The path grew steep and perilous, winding through ancient, gnarled trees that clawed at the sky. The air grew thin and cold, and the silence was broken only by the wind’s mournful sigh. Kael saw the scattered bones of creatures, and the occasional glint of rusted armor – grim reminders of those who had come before. Yet, his resolve did not waver. He carried the hopes of Eldoria, and that burden fueled his steps.\n",
      "\n",
      "After three days of arduous travel, he reached the base of Dragon's Tooth, a jagged peak that pierced the clouds. High above, nestled in a craggy alcove, was the Griffin's nest, a dark smudge against the grey rock. The wind carried a faint, unsettling screech.\n",
      "\n",
      "Kael dismounted, leaving Whisper hidden among the rocks with ample food and water. The final ascent was a climb, not a ride. He scaled crumbling ledges, gripped icy handholds, and pulled himself upward, his muscles burning, his breath coming in ragged gasps. The roar of the wind threatened to tear him from the mountain face, but he pressed on, his eyes fixed on the nest.\n",
      "\n",
      "Finally, just as the sun began to dip below the horizon, painting the sky in fiery hues, Sir Kael reached a wide ledge. There, perched on the edge of its nest, was the colossal Griffin. It was even larger than the tales suggested, its eyes like molten gold, its beak a formidable weapon, and its talons the size of a man’s forearm. It turned its head, its sharp gaze fixing on the lone figure. A guttural shriek echoed across the chasm.\n",
      "\n",
      "Fear, cold and sharp, seized Kael for a moment. This was no ordinary beast. This was a force of nature, a winged terror. But then, he remembered the frightened eyes of the children, the hushed prayers of the villagers, the King's weary face. His fear solidified into a steel resolve.\n",
      "\n",
      "\"Beast!\" Kael roared, his voice surprisingly strong against the wind. \"Your reign of terror ends today!\"\n",
      "\n",
      "The Griffin, unused to such defiance, launched itself into the air with a mighty beat of its wings, a gust of wind nearly sending Kael tumbling. It circled once, then swooped, talons extended, aiming to snatch him from the ledge.\n",
      "\n",
      "Kael moved with surprising agility. He rolled, his shield deflecting a glancing blow that would have crushed him. The Griffin landed, its massive body shaking the rock, its sharp beak snapping. Kael kept low, avoiding its lunges, looking for an opening. He knew a frontal assault was suicide.\n",
      "\n",
      "He noticed that the Griffin, for all its power, was slow to turn on the narrow ledge. He began to bait it, darting in and out, drawing its attacks, forcing it to overextend. Each time, he narrowly avoided its talons or its sharp beak, his shield taking brutal punishment.\n",
      "\n",
      "Then, the Griffin let out a frustrated shriek and lunged, its massive head extended. This was the opening. As its neck stretched forward, Kael moved. With a guttural cry, he plunged his sword, not at its armored chest or impenetrable skull, but at the soft, unprotected flesh just beneath its wing, where the feathers met the scales.\n",
      "\n",
      "The Griffin shrieked, a sound of agony and rage that tore through the mountain air. It thrashed violently, its powerful wings beating wildly, sending Kael stumbling. He clung to the rock face as the creature roared, its golden eyes glazing over with pain. With a final, convulsive shudder, it stumbled backward, off the edge of the nest, and plummeted into the abyss, its shriek fading into the wind-swept silence.\n",
      "\n",
      "Sir Kael stood there, shaking, his armor dented, his shield splintered, his sword still clutched in his hand. The setting sun cast long shadows, and the air was still save for the whistling wind. He had done it.\n",
      "\n",
      "The descent was slow and cautious, but infused with a profound sense of relief. He reached Whisper, who neighed softly, as if sensing his success. The journey back was one of quiet triumph.\n",
      "\n",
      "When Sir Kael rode into Eldoria, his armor scratched and his face weary, he was not met with cheers at first. Just stunned silence. Then, as the news spread, as the King himself rode out to greet him, the silence shattered. A roar of jubilation erupted from the people. They lifted him from Whisper's back, paraded him through the streets, tears of joy streaming down their faces.\n",
      "\n",
      "Sir Kael, humble as ever, simply smiled, tired but content. He had not sought glory, but peace. He had faced his deepest fears and emerged victorious, not because he was the strongest, but because his bravery was fueled by the love for his kingdom and the unwavering courage in his heart. The shadow that had fallen over Eldoria was lifted, and peace returned, safeguarded by the quiet courage of Sir Kael, the bravest knight.\n"
     ]
    }
   ],
   "source": [
    "# from google import genai\n",
    "\n",
    "# Configure your API key\n",
    "# genai.configure(api_key=\"YOUR_API_KEY\") \n",
    "\n",
    "model = genai.GenerativeModel('gemini-2.5-flash')\n",
    "response = model.generate_content(\"Tell me a story about a brave knight.\")\n",
    "print(response.text)"
   ]
  },
  {
   "cell_type": "code",
   "execution_count": null,
   "id": "eceaf151",
   "metadata": {},
   "outputs": [],
   "source": []
  }
 ],
 "metadata": {
  "kernelspec": {
   "display_name": ".venv",
   "language": "python",
   "name": "python3"
  },
  "language_info": {
   "codemirror_mode": {
    "name": "ipython",
    "version": 3
   },
   "file_extension": ".py",
   "mimetype": "text/x-python",
   "name": "python",
   "nbconvert_exporter": "python",
   "pygments_lexer": "ipython3",
   "version": "3.13.6"
  }
 },
 "nbformat": 4,
 "nbformat_minor": 5
}
